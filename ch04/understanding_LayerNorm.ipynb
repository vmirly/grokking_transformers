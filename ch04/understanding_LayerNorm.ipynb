{
 "cells": [
  {
   "cell_type": "markdown",
   "metadata": {},
   "source": [
    "Chapter 4: Inside a Transformer\n",
    "=====\n",
    "\n",
    "## Understanding LayerNorm\n",
    "\n",
    "$$\\hat{x}_i = \\frac{x_i - \\mu}{\\sigma+\\epsilon}\\gamma + \\beta$$\n",
    "\n",
    "* In the context of Transformers:\n",
    "  * $\\gamma$ is initialized to a vector of $\\mathcal{1}$\n",
    "  * $\\beta$ is initialized to a vector of $\\mathbb{0}$"
   ]
  },
  {
   "cell_type": "code",
   "execution_count": 1,
   "metadata": {},
   "outputs": [
    {
     "data": {
      "text/plain": [
       "<torch._C.Generator at 0x12244cb10>"
      ]
     },
     "execution_count": 1,
     "metadata": {},
     "output_type": "execute_result"
    }
   ],
   "source": [
    "import torch\n",
    "import torch.nn as nn\n",
    "import numpy as np\n",
    "\n",
    "# set the random seed for reproducibility\n",
    "torch.manual_seed(0)"
   ]
  },
  {
   "cell_type": "code",
   "execution_count": 2,
   "metadata": {},
   "outputs": [
    {
     "name": "stdout",
     "output_type": "stream",
     "text": [
      "torch.Size([5, 10, 8])\n"
     ]
    }
   ],
   "source": [
    "# setting the parameters\n",
    "B = 5\n",
    "seq_length = 10\n",
    "embedding_dim = 8\n",
    "\n",
    "# create a random tensor of shape (B, seq_length, embedding_dim)\n",
    "X = torch.randn(B, seq_length, embedding_dim)\n",
    "print(X.shape)"
   ]
  },
  {
   "cell_type": "code",
   "execution_count": 3,
   "metadata": {},
   "outputs": [
    {
     "name": "stdout",
     "output_type": "stream",
     "text": [
      "LN's gamma: torch.Size([8])\n",
      "LN's beta: torch.Size([8])\n",
      "\n",
      "Initial values:\n",
      "gamma: [1. 1. 1. 1. 1. 1. 1. 1.]\n",
      "beta: [0. 0. 0. 0. 0. 0. 0. 0.]\n"
     ]
    }
   ],
   "source": [
    "# Build a layernorm\n",
    "layer_norm = nn.LayerNorm(embedding_dim)\n",
    "\n",
    "# print the shape of layer_norm parameters\n",
    "print(\"LN's gamma:\", layer_norm.weight.shape)\n",
    "print(\"LN's beta:\", layer_norm.bias.shape)\n",
    "print(\"\\nInitial values:\")\n",
    "print(\"gamma:\", layer_norm.weight.detach().numpy())\n",
    "print(\"beta:\", layer_norm.bias.detach().numpy())"
   ]
  },
  {
   "cell_type": "code",
   "execution_count": 4,
   "metadata": {},
   "outputs": [
    {
     "name": "stdout",
     "output_type": "stream",
     "text": [
      "torch.Size([5, 10, 8])\n"
     ]
    }
   ],
   "source": [
    "# apply layernorm to X\n",
    "Y = layer_norm(X)\n",
    "print(Y.shape)"
   ]
  },
  {
   "cell_type": "code",
   "execution_count": 5,
   "metadata": {},
   "outputs": [
    {
     "name": "stdout",
     "output_type": "stream",
     "text": [
      "Mean shape: torch.Size([5, 10, 1])\n",
      "Mean close to zero? True\n",
      "Variance shape: torch.Size([5, 10, 1])\n",
      "Variance close to one? True\n"
     ]
    }
   ],
   "source": [
    "# check mean and variance after applying layernorm\n",
    "mean = Y.mean(dim=-1, keepdim=True)\n",
    "print(\"Mean shape:\", mean.shape)\n",
    "print(\"Mean close to zero?\", np.allclose(mean.detach().numpy(), 0, atol=1e-3))\n",
    "\n",
    "var = Y.var(dim=-1, keepdim=True, unbiased=False)\n",
    "print(\"Variance shape:\", var.shape)\n",
    "print(\"Variance close to one?\", np.allclose(var.detach().numpy(), 1, atol=1e-3))"
   ]
  },
  {
   "cell_type": "markdown",
   "metadata": {},
   "source": [
    "### Hands-on computation"
   ]
  },
  {
   "cell_type": "code",
   "execution_count": 6,
   "metadata": {},
   "outputs": [
    {
     "name": "stdout",
     "output_type": "stream",
     "text": [
      "Manual mean shape: torch.Size([5, 10, 1])\n",
      "Manual variance shape: torch.Size([5, 10, 1])\n",
      "All close? True\n"
     ]
    }
   ],
   "source": [
    "# compute mean and variance manually\n",
    "manual_mean = X.mean(dim=-1, keepdim=True)\n",
    "manual_var = X.var(dim=-1, keepdim=True, unbiased=False)\n",
    "print(\"Manual mean shape:\", manual_mean.shape)\n",
    "print(\"Manual variance shape:\", manual_var.shape)\n",
    "\n",
    "# apply layernorm manually\n",
    "Y_manual = (X - manual_mean) / torch.sqrt(manual_var + 1e-6)\n",
    "Y_manual = layer_norm.weight * Y_manual + layer_norm.bias\n",
    "\n",
    "Y_array = Y.detach().numpy()\n",
    "Y_manual_array = Y_manual.detach().numpy()\n",
    "# compare the results\n",
    "print(\n",
    "    \"All close?\",\n",
    "    np.allclose(Y_array, Y_manual_array, atol=1e-3)\n",
    ")"
   ]
  },
  {
   "cell_type": "code",
   "execution_count": null,
   "metadata": {},
   "outputs": [],
   "source": []
  }
 ],
 "metadata": {
  "kernelspec": {
   "display_name": "py310",
   "language": "python",
   "name": "python3"
  },
  "language_info": {
   "codemirror_mode": {
    "name": "ipython",
    "version": 3
   },
   "file_extension": ".py",
   "mimetype": "text/x-python",
   "name": "python",
   "nbconvert_exporter": "python",
   "pygments_lexer": "ipython3",
   "version": "3.10.15"
  }
 },
 "nbformat": 4,
 "nbformat_minor": 2
}
