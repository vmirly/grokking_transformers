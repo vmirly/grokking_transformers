{
 "cells": [
  {
   "cell_type": "markdown",
   "metadata": {},
   "source": [
    "## Spam Classification\n",
    "\n",
    "In this notebook, we will explore the Spam Classification dataset from the UCI Machine Learning Repository. Our goal is to build a neural network to classify emails as spam or not spam.\n",
    "\n",
    "To begin, we will implement a simple Perceptron model to demonstrate its limitations on this dataset. Since the Perceptron cannot handle non-linearly separable data, we will then transition to a more powerful neural network model that can effectively classify the emails.\n",
    "\n",
    "Let's get started! 🚀\n",
    "\n",
    "https://archive.ics.uci.edu/dataset/228/sms+spam+collection\n",
    "\n",
    "```bash\n",
    "wget https://archive.ics.uci.edu/static/public/228/sms+spam+collection.zip\n",
    "\n",
    "unzip sms+spam+collection.zip\n",
    "```"
   ]
  },
  {
   "cell_type": "markdown",
   "metadata": {},
   "source": []
  }
 ],
 "metadata": {
  "language_info": {
   "name": "python"
  }
 },
 "nbformat": 4,
 "nbformat_minor": 2
}
